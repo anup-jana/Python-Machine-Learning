{
  "nbformat": 4,
  "nbformat_minor": 0,
  "metadata": {
    "colab": {
      "name": "India vs World COVID19 v1.ipynb",
      "provenance": [],
      "authorship_tag": "ABX9TyPl6pgl0vkyKX/5kRc2Z95F",
      "include_colab_link": true
    },
    "kernelspec": {
      "name": "python3",
      "display_name": "Python 3"
    }
  },
  "cells": [
    {
      "cell_type": "markdown",
      "metadata": {
        "id": "view-in-github",
        "colab_type": "text"
      },
      "source": [
        "<a href=\"https://colab.research.google.com/github/anup-jana/Python-Machine-Learning/blob/master/India_vs_World_COVID19_v1.ipynb\" target=\"_parent\"><img src=\"https://colab.research.google.com/assets/colab-badge.svg\" alt=\"Open In Colab\"/></a>"
      ]
    },
    {
      "cell_type": "code",
      "metadata": {
        "id": "QYTqm_1Ju4jc",
        "colab_type": "code",
        "colab": {
          "base_uri": "https://localhost:8080/",
          "height": 663
        },
        "outputId": "92ca3f03-361e-4844-b34b-d957225c2f78"
      },
      "source": [
        "!pip install pycountry_convert"
      ],
      "execution_count": 2,
      "outputs": [
        {
          "output_type": "stream",
          "text": [
            "Collecting pycountry_convert\n",
            "  Downloading https://files.pythonhosted.org/packages/9b/e7/26c14899a43c34e04a58e3772007afe79dbd64fac15d2fbaeedff24082f2/pycountry_convert-0.7.2-py3-none-any.whl\n",
            "Collecting pycountry>=16.11.27.1\n",
            "\u001b[?25l  Downloading https://files.pythonhosted.org/packages/16/b6/154fe93072051d8ce7bf197690957b6d0ac9a21d51c9a1d05bd7c6fdb16f/pycountry-19.8.18.tar.gz (10.0MB)\n",
            "\u001b[K     |████████████████████████████████| 10.0MB 4.1MB/s \n",
            "\u001b[?25hCollecting pprintpp>=0.3.0\n",
            "  Downloading https://files.pythonhosted.org/packages/4e/d1/e4ed95fdd3ef13b78630280d9e9e240aeb65cc7c544ec57106149c3942fb/pprintpp-0.4.0-py2.py3-none-any.whl\n",
            "Requirement already satisfied: wheel>=0.30.0 in /usr/local/lib/python3.6/dist-packages (from pycountry_convert) (0.34.2)\n",
            "Collecting pytest-cov>=2.5.1\n",
            "  Downloading https://files.pythonhosted.org/packages/b9/54/3673ee8be482f81527678ac894276223b9814bb7262e4f730469bb7bf70e/pytest_cov-2.8.1-py2.py3-none-any.whl\n",
            "Requirement already satisfied: pytest>=3.4.0 in /usr/local/lib/python3.6/dist-packages (from pycountry_convert) (3.6.4)\n",
            "Collecting pytest-mock>=1.6.3\n",
            "  Downloading https://files.pythonhosted.org/packages/fe/86/bb7b177370d9f2c272cb125b88255905c6869e1644dddf5a750ef803bf9f/pytest_mock-3.0.0-py2.py3-none-any.whl\n",
            "Collecting repoze.lru>=0.7\n",
            "  Downloading https://files.pythonhosted.org/packages/b0/30/6cc0c95f0b59ad4b3b9163bff7cdcf793cc96fac64cf398ff26271f5cf5e/repoze.lru-0.7-py3-none-any.whl\n",
            "Collecting coverage>=4.4\n",
            "\u001b[?25l  Downloading https://files.pythonhosted.org/packages/ea/8a/b190b4cafb8d94c518efb22f561326b5b7e045f13133ec2d482fce395dd0/coverage-5.0.4-cp36-cp36m-manylinux1_x86_64.whl (227kB)\n",
            "\u001b[K     |████████████████████████████████| 235kB 55.7MB/s \n",
            "\u001b[?25hRequirement already satisfied: setuptools in /usr/local/lib/python3.6/dist-packages (from pytest>=3.4.0->pycountry_convert) (46.0.0)\n",
            "Requirement already satisfied: pluggy<0.8,>=0.5 in /usr/local/lib/python3.6/dist-packages (from pytest>=3.4.0->pycountry_convert) (0.7.1)\n",
            "Requirement already satisfied: more-itertools>=4.0.0 in /usr/local/lib/python3.6/dist-packages (from pytest>=3.4.0->pycountry_convert) (8.2.0)\n",
            "Requirement already satisfied: py>=1.5.0 in /usr/local/lib/python3.6/dist-packages (from pytest>=3.4.0->pycountry_convert) (1.8.1)\n",
            "Requirement already satisfied: six>=1.10.0 in /usr/local/lib/python3.6/dist-packages (from pytest>=3.4.0->pycountry_convert) (1.12.0)\n",
            "Requirement already satisfied: atomicwrites>=1.0 in /usr/local/lib/python3.6/dist-packages (from pytest>=3.4.0->pycountry_convert) (1.3.0)\n",
            "Requirement already satisfied: attrs>=17.4.0 in /usr/local/lib/python3.6/dist-packages (from pytest>=3.4.0->pycountry_convert) (19.3.0)\n",
            "Building wheels for collected packages: pycountry\n",
            "  Building wheel for pycountry (setup.py) ... \u001b[?25l\u001b[?25hdone\n",
            "  Created wheel for pycountry: filename=pycountry-19.8.18-py2.py3-none-any.whl size=10627361 sha256=943c2b2283c8fc9697f3578cd90b6d25261e5e33c6237a8d7a0b2d0c6d53028c\n",
            "  Stored in directory: /root/.cache/pip/wheels/a2/98/bf/f0fa1c6bf8cf2cbdb750d583f84be51c2cd8272460b8b36bd3\n",
            "Successfully built pycountry\n",
            "\u001b[31mERROR: datascience 0.10.6 has requirement coverage==3.7.1, but you'll have coverage 5.0.4 which is incompatible.\u001b[0m\n",
            "\u001b[31mERROR: datascience 0.10.6 has requirement folium==0.2.1, but you'll have folium 0.8.3 which is incompatible.\u001b[0m\n",
            "\u001b[31mERROR: coveralls 0.5 has requirement coverage<3.999,>=3.6, but you'll have coverage 5.0.4 which is incompatible.\u001b[0m\n",
            "Installing collected packages: pycountry, pprintpp, coverage, pytest-cov, pytest-mock, repoze.lru, pycountry-convert\n",
            "  Found existing installation: coverage 3.7.1\n",
            "    Uninstalling coverage-3.7.1:\n",
            "      Successfully uninstalled coverage-3.7.1\n",
            "Successfully installed coverage-5.0.4 pprintpp-0.4.0 pycountry-19.8.18 pycountry-convert-0.7.2 pytest-cov-2.8.1 pytest-mock-3.0.0 repoze.lru-0.7\n"
          ],
          "name": "stdout"
        }
      ]
    },
    {
      "cell_type": "code",
      "metadata": {
        "id": "OHeeQZuJvfTZ",
        "colab_type": "code",
        "colab": {
          "base_uri": "https://localhost:8080/",
          "height": 34
        },
        "outputId": "3e6bfe1e-8e85-4156-b5c8-5e3a66e29fbe"
      },
      "source": [
        "# Ignore warnings\n",
        "import warnings\n",
        "warnings.filterwarnings('ignore')\n",
        "\n",
        "import pandas as pd\n",
        "import numpy as np\n",
        "import matplotlib.pyplot as plt\n",
        "from matplotlib import ticker \n",
        "import pycountry_convert as pc\n",
        "#import folium\n",
        "#import branca\n",
        "from datetime import datetime, timedelta,date\n",
        "from scipy.interpolate import make_interp_spline, BSpline\n",
        "import plotly.express as px\n",
        "import json, requests\n",
        "\n",
        "from keras.layers import Input, Dense, Activation, LeakyReLU\n",
        "from keras import models\n",
        "from keras.optimizers import RMSprop, Adam\n",
        "\n",
        "%matplotlib inline"
      ],
      "execution_count": 3,
      "outputs": [
        {
          "output_type": "stream",
          "text": [
            "Using TensorFlow backend.\n"
          ],
          "name": "stderr"
        }
      ]
    },
    {
      "cell_type": "code",
      "metadata": {
        "id": "0nFeZRBrwb4P",
        "colab_type": "code",
        "colab": {}
      },
      "source": [
        "# Retriving Dataset\n",
        "df_confirmed = pd.read_csv('https://raw.githubusercontent.com/anup-jana/Python-Machine-Learning/master/Datasets/time_series_covid19_confirmed_global.csv')\n",
        "df_deaths = pd.read_csv('https://raw.githubusercontent.com/anup-jana/Python-Machine-Learning/master/Datasets/time_series_covid19_deaths_global.csv')"
      ],
      "execution_count": 0,
      "outputs": []
    }
  ]
}