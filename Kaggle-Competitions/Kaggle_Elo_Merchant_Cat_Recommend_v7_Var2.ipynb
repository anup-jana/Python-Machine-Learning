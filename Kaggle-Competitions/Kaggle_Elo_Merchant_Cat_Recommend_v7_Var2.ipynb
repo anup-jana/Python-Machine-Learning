{
 "cells": [
  {
   "cell_type": "code",
   "execution_count": null,
   "metadata": {},
   "outputs": [],
   "source": [
    "# Ignore warnings\n",
    "import warnings\n",
    "warnings.filterwarnings('ignore')\n",
    "\n",
    "#import some necessary librairies\n",
    "import numpy as np # linear algebra\n",
    "import pandas as pd # data processing, CSV file I/O (e.g. pd.read_csv)\n",
    "\n",
    "%matplotlib inline\n",
    "import matplotlib.pyplot as plt  # Matlab-style plotting\n",
    "import seaborn as sns\n",
    "\n",
    "# This module provides an interface to the optional garbage collector.\n",
    "# It provides the ability to disable the collector, tune the collection frequency, and set debugging options.\n",
    "import gc\n",
    "\n",
    "import datetime\n",
    "import time\n",
    "\n",
    "import lightgbm as lgb\n",
    "from sklearn.model_selection import StratifiedKFold\n",
    "from sklearn.metrics import mean_squared_log_error, mean_squared_error, r2_score, mean_absolute_error\n",
    "\n",
    "# Settings\n",
    "sns.set(style=\"darkgrid\")\n",
    "plt.rcParams['axes.labelsize'] = 14\n",
    "plt.rcParams['xtick.labelsize'] = 12\n",
    "plt.rcParams['ytick.labelsize'] = 12\n",
    "plt.rcParams['figure.figsize'] = (12, 4)\n",
    "pd.options.display.max_columns = 500"
   ]
  },
  {
   "cell_type": "code",
   "execution_count": null,
   "metadata": {},
   "outputs": [],
   "source": [
    "#Reduce the memory usage - Inspired by Panchajanya Banerjee\n",
    "def reduce_mem_usage(df, verbose=True):\n",
    "    \n",
    "    numerics = ['int16', 'int32', 'int64', 'float16', 'float32', 'float64']\n",
    "    start_mem = df.memory_usage().sum() / 1024**2    \n",
    "    \n",
    "    for col in df.columns:\n",
    "        col_type = df[col].dtypes\n",
    "        if col_type in numerics:\n",
    "            c_min = df[col].min()\n",
    "            c_max = df[col].max()\n",
    "            if str(col_type)[:3] == 'int':\n",
    "                if c_min > np.iinfo(np.int8).min and c_max < np.iinfo(np.int8).max:\n",
    "                    df[col] = df[col].astype(np.int8)\n",
    "                elif c_min > np.iinfo(np.int16).min and c_max < np.iinfo(np.int16).max:\n",
    "                    df[col] = df[col].astype(np.int16)\n",
    "                elif c_min > np.iinfo(np.int32).min and c_max < np.iinfo(np.int32).max:\n",
    "                    df[col] = df[col].astype(np.int32)\n",
    "                elif c_min > np.iinfo(np.int64).min and c_max < np.iinfo(np.int64).max:\n",
    "                    df[col] = df[col].astype(np.int64)  \n",
    "            else:\n",
    "                if c_min > np.finfo(np.float16).min and c_max < np.finfo(np.float16).max:\n",
    "                    df[col] = df[col].astype(np.float16)\n",
    "                elif c_min > np.finfo(np.float32).min and c_max < np.finfo(np.float32).max:\n",
    "                    df[col] = df[col].astype(np.float32)\n",
    "                else:\n",
    "                    df[col] = df[col].astype(np.float64)    \n",
    "    end_mem = df.memory_usage().sum() / 1024**2\n",
    "    if verbose: \n",
    "        print('Mem. usage decreased to {:5.2f} Mb ({:.1f}% reduction)'.format(end_mem, 100 * (start_mem - end_mem) / start_mem))\n",
    "    \n",
    "    return df"
   ]
  },
  {
   "cell_type": "code",
   "execution_count": null,
   "metadata": {},
   "outputs": [],
   "source": [
    "import os\n",
    "print(os.listdir(\"datasets\"))"
   ]
  },
  {
   "cell_type": "code",
   "execution_count": null,
   "metadata": {},
   "outputs": [],
   "source": [
    "%%time\n",
    "train_org = reduce_mem_usage(pd.read_csv(\"datasets/train.csv\", parse_dates=[\"first_active_month\"]))\n",
    "print('Train dataset dimension: ', train_org.shape)"
   ]
  },
  {
   "cell_type": "code",
   "execution_count": null,
   "metadata": {},
   "outputs": [],
   "source": [
    "%%time\n",
    "test_org = reduce_mem_usage(pd.read_csv(\"datasets/test.csv\", parse_dates=[\"first_active_month\"]))\n",
    "print('Test dataset dimension: ', test_org.shape)"
   ]
  },
  {
   "cell_type": "code",
   "execution_count": null,
   "metadata": {},
   "outputs": [],
   "source": [
    "%%time\n",
    "hist_trans_org = reduce_mem_usage(pd.read_csv(\"datasets/historical_transactions.csv\", parse_dates=[\"purchase_date\"]))\n",
    "print('Historical Transactions dataset dimension: ', hist_trans_org.shape)"
   ]
  },
  {
   "cell_type": "code",
   "execution_count": null,
   "metadata": {},
   "outputs": [],
   "source": [
    "%%time\n",
    "merchants_org = reduce_mem_usage(pd.read_csv(\"datasets/merchants.csv\"))\n",
    "print('New Merchant dataset dimension: ', merchants_org.shape)"
   ]
  },
  {
   "cell_type": "code",
   "execution_count": null,
   "metadata": {},
   "outputs": [],
   "source": [
    "%%time\n",
    "new_merch_trans_org = reduce_mem_usage(pd.read_csv(\"datasets/new_merchant_transactions.csv\", parse_dates=[\"purchase_date\"]))\n",
    "print('New Merchant dataset dimension: ', new_merch_trans_org.shape)"
   ]
  },
  {
   "cell_type": "code",
   "execution_count": null,
   "metadata": {},
   "outputs": [],
   "source": [
    "print('First few observations of Train Dataset:')\n",
    "train_org.head()"
   ]
  },
  {
   "cell_type": "code",
   "execution_count": null,
   "metadata": {},
   "outputs": [],
   "source": [
    "print('First few observations of Test Dataset:')\n",
    "test_org.head()"
   ]
  },
  {
   "cell_type": "code",
   "execution_count": null,
   "metadata": {},
   "outputs": [],
   "source": [
    "print('First few observations of Historical Transactions Dataset:')\n",
    "hist_trans_org.head()"
   ]
  },
  {
   "cell_type": "code",
   "execution_count": null,
   "metadata": {},
   "outputs": [],
   "source": [
    "print('First few observations of Merchants Dataset:')\n",
    "merchants_org.head()"
   ]
  },
  {
   "cell_type": "code",
   "execution_count": null,
   "metadata": {},
   "outputs": [],
   "source": [
    "print('First few observations of New Merchant Transactions Dataset:')\n",
    "new_merch_trans_org.head()"
   ]
  },
  {
   "cell_type": "code",
   "execution_count": null,
   "metadata": {},
   "outputs": [],
   "source": [
    "# histogram of target label\n",
    "f, ax = plt.subplots(figsize=(14, 6))\n",
    "sns.distplot(train_org['target']);"
   ]
  },
  {
   "cell_type": "code",
   "execution_count": null,
   "metadata": {},
   "outputs": [],
   "source": [
    "train_org.describe()"
   ]
  },
  {
   "cell_type": "code",
   "execution_count": null,
   "metadata": {},
   "outputs": [],
   "source": [
    "null_feat_df = pd.DataFrame()\n",
    "null_feat_df['Null Count'] = train_org.isnull().sum().sort_values(ascending=False)\n",
    "null_feat_df['Null Pct'] = null_feat_df['Null Count'] / float(len(train_org))\n",
    "\n",
    "null_feat_df = null_feat_df[null_feat_df['Null Pct'] > 0]\n",
    "\n",
    "total_null_feats = null_feat_df.shape[0]\n",
    "null_feat_names = null_feat_df.index\n",
    "print('Total number of features having null values in train dataset: ', total_null_feats)\n",
    "print('Name of features having null values in train dataset: ', null_feat_names)\n",
    "del null_feat_df"
   ]
  },
  {
   "cell_type": "code",
   "execution_count": null,
   "metadata": {},
   "outputs": [],
   "source": [
    "null_feat_df = pd.DataFrame()\n",
    "null_feat_df['Null Count'] = test_org.isnull().sum().sort_values(ascending=False)\n",
    "null_feat_df['Null Pct'] = null_feat_df['Null Count'] / float(len(test_org))\n",
    "\n",
    "null_feat_df = null_feat_df[null_feat_df['Null Pct'] > 0]\n",
    "\n",
    "total_null_feats = null_feat_df.shape[0]\n",
    "null_feat_names = null_feat_df.index\n",
    "print('Total number of features having null values in test dataset: ', total_null_feats)\n",
    "print('Name of features having null values in test dataset: ', null_feat_names)\n",
    "del null_feat_df"
   ]
  },
  {
   "cell_type": "code",
   "execution_count": null,
   "metadata": {},
   "outputs": [],
   "source": [
    "%%time\n",
    "train_df_proc = train_org.copy()\n",
    "test_df_proc = test_org.copy()\n",
    "\n",
    "# Handle missing value of first_active_month in test dataset\n",
    "top_active_month = test_org['first_active_month'].describe()['top']\n",
    "test_df_proc['first_active_month'] = test_df_proc['first_active_month'].fillna(top_active_month)\n",
    "\n",
    "for df in [train_df_proc, test_df_proc]:\n",
    "    df['first_active_month'] = pd.to_datetime(df['first_active_month'])\n",
    "    df['elo_year'] = df['first_active_month'].dt.year\n",
    "    df['elo_month'] = df['first_active_month'].dt.month\n",
    "    #df['elo_week'] = df[\"first_active_month\"].dt.weekofyear\n",
    "    #df['elo_dayofweek'] = df['first_active_month'].dt.dayofweek\n",
    "    df['elo_elapsed_days'] = (datetime.date(2018, 2, 1) - df['first_active_month'].dt.date).dt.days"
   ]
  },
  {
   "cell_type": "code",
   "execution_count": null,
   "metadata": {},
   "outputs": [],
   "source": [
    "null_feat_df = pd.DataFrame()\n",
    "null_feat_df['Null Count'] = hist_trans_org.isnull().sum().sort_values(ascending=False)\n",
    "null_feat_df['Null Pct'] = null_feat_df['Null Count'] / float(len(hist_trans_org))\n",
    "\n",
    "null_feat_df = null_feat_df[null_feat_df['Null Pct'] > 0]\n",
    "\n",
    "total_null_feats = null_feat_df.shape[0]\n",
    "null_feat_names = null_feat_df.index\n",
    "print('Total number of features having null values: ', total_null_feats)\n",
    "print('Name of features having null values: ', null_feat_names)\n",
    "print(null_feat_df)\n",
    "\n",
    "del null_feat_df"
   ]
  },
  {
   "cell_type": "code",
   "execution_count": null,
   "metadata": {},
   "outputs": [],
   "source": [
    "print('History Trans - Unique Values - authorized_flag: ', hist_trans_org['authorized_flag'].unique().tolist())\n",
    "print('History Trans - Unique Values - category_1: ', hist_trans_org['category_1'].unique().tolist())\n",
    "print('History Trans - Unique Values - category_2: ', hist_trans_org['category_2'].unique().tolist())\n",
    "print('History Trans - Unique Values - category_3: ', hist_trans_org['category_3'].unique().tolist())"
   ]
  },
  {
   "cell_type": "code",
   "execution_count": null,
   "metadata": {},
   "outputs": [],
   "source": [
    "hist_trans_org.describe()"
   ]
  },
  {
   "cell_type": "code",
   "execution_count": null,
   "metadata": {},
   "outputs": [],
   "source": [
    "null_feat_df = pd.DataFrame()\n",
    "null_feat_df['Null Count'] = new_merch_trans_org.isnull().sum().sort_values(ascending=False)\n",
    "null_feat_df['Null Pct'] = null_feat_df['Null Count'] / float(len(new_merch_trans_org))\n",
    "\n",
    "null_feat_df = null_feat_df[null_feat_df['Null Pct'] > 0]\n",
    "\n",
    "total_null_feats = null_feat_df.shape[0]\n",
    "null_feat_names = null_feat_df.index\n",
    "print('Total number of features having null values: ', total_null_feats)\n",
    "print('Name of features having null values: ', null_feat_names)\n",
    "print(null_feat_df)\n",
    "\n",
    "del null_feat_df"
   ]
  },
  {
   "cell_type": "code",
   "execution_count": null,
   "metadata": {},
   "outputs": [],
   "source": [
    "print('New Merchant Trans - Unique Values - authorized_flag: ', new_merch_trans_org['authorized_flag'].unique().tolist())\n",
    "print('New Merchant Trans - Unique Values - category_1     : ', new_merch_trans_org['category_1'].unique().tolist())\n",
    "print('New Merchant Trans - Unique Values - category_2     : ', new_merch_trans_org['category_2'].unique().tolist())\n",
    "print('New Merchant Trans - Unique Values - category_3     : ', new_merch_trans_org['category_3'].unique().tolist())"
   ]
  },
  {
   "cell_type": "code",
   "execution_count": null,
   "metadata": {},
   "outputs": [],
   "source": [
    "new_merch_trans_org.describe()"
   ]
  },
  {
   "cell_type": "code",
   "execution_count": null,
   "metadata": {},
   "outputs": [],
   "source": [
    "%%time\n",
    "hist_trans_df = hist_trans_org.copy()\n",
    "merch_trans_df = new_merch_trans_org.copy()\n",
    "\n",
    "print('Historical Transactions dataset dimension: ', hist_trans_df.shape)\n",
    "hist_trans_df['category_2'] = hist_trans_df['category_2'].fillna(99.0)\n",
    "hist_trans_df['category_3'] = hist_trans_df['category_3'].fillna('N')\n",
    "hist_trans_df.loc[hist_trans_df['installments'] == 999, 'installments'] = -1\n",
    "hist_trans_df.dropna(inplace=True)\n",
    "print('Historical Transactions dataset dimension after treating null values: ', hist_trans_df.shape)\n",
    "\n",
    "print('Merchant Transactions dataset dimension: ', merch_trans_df.shape)\n",
    "merch_trans_df['category_2'] = merch_trans_df['category_2'].fillna(99.0)\n",
    "merch_trans_df['category_3'] = merch_trans_df['category_3'].fillna('N')\n",
    "merch_trans_df.loc[merch_trans_df['installments'] == 999, 'installments'] = -1\n",
    "merch_trans_df.dropna(inplace=True)\n",
    "print('Merchant Transactions dataset dimension after treating null values: ', merch_trans_df.shape)\n",
    "\n",
    "gc.collect()"
   ]
  },
  {
   "cell_type": "code",
   "execution_count": null,
   "metadata": {},
   "outputs": [],
   "source": [
    "#hist_trans_df.describe()"
   ]
  },
  {
   "cell_type": "code",
   "execution_count": null,
   "metadata": {},
   "outputs": [],
   "source": [
    "#merch_trans_df.describe()"
   ]
  },
  {
   "cell_type": "markdown",
   "metadata": {},
   "source": [
    "### Historical Transactions\n",
    "#### category_1\n",
    "- when category_1 = 'N' then multiple state_id including -1\n",
    "- when category_1 = 'Y' then state_id = -1 which might be no states\n",
    "\n",
    "#### category_2\n",
    "- when category_2 = 1.0 then state_id  = 9, 12, 15, 16\n",
    "- when category_2 = 2.0 then state_id  = 6, 10, 18, 23, 24\n",
    "- when category_2 = 3.0 then state_id  = 1, 2, 3, 7, 8, 11, 17, 19\n",
    "- when category_2 = 4.0 then state_id  = 4, 13, 14, 22\n",
    "- when category_2 = 5.0 then state_id  = 5, 20, 21\n",
    "- when category_2 = 99.0 which was actually null then state_id  = -1 which might be no states\n",
    "\n",
    "#### category_3\n",
    "- multiple state_id for category 'A', 'B' & 'C'\n",
    "- category_3 was null which was imputed to value 'N', might be related to null / remaining category\n",
    "\n",
    "#### authorized_flag\n",
    "- for both values 'Y' & 'N', diverse sets of state_id are mapped"
   ]
  },
  {
   "cell_type": "code",
   "execution_count": null,
   "metadata": {},
   "outputs": [],
   "source": [
    "#hist_trans_df.groupby(['category_1','state_id'], as_index=False).agg({'card_id': ['count']}, as_index=False)\n",
    "#hist_trans_df.groupby(['category_2','state_id'], as_index=False).agg({'card_id': ['count']}, as_index=False)\n",
    "#hist_trans_df.groupby(['category_3','state_id'], as_index=False).agg({'card_id': ['count']}, as_index=False)\n",
    "#hist_trans_df.groupby(['authorized_flag','state_id'], as_index=False).agg({'card_id': ['count']}, as_index=False)"
   ]
  },
  {
   "cell_type": "markdown",
   "metadata": {},
   "source": [
    "### New Merchant Transactions\n",
    "#### category_1\n",
    "- when category_1 = 'N' then multiple state_id including -1\n",
    "- when category_1 = 'Y' then state_id = -1 which might be no states\n",
    "\n",
    "#### category_2\n",
    "- when category_2 = 1.0 then state_id  = 9, 12, 15, 16\n",
    "- when category_2 = 2.0 then state_id  = 6, 10, 18, 23, 24\n",
    "- when category_2 = 3.0 then state_id  = 1, 2, 3, 7, 8, 11, 17, 19\n",
    "- when category_2 = 4.0 then state_id  = 4, 13, 14, 22\n",
    "- when category_2 = 5.0 then state_id  = 5, 20, 21\n",
    "- when category_2 = 99.0 which was actually null then state_id  = -1 which might be no states\n",
    "\n",
    "#### category_3\n",
    "- multiple state_id for category 'A', 'B' & 'C'\n",
    "- category_3 was null which was imputed to value 'N', might be related to null / remaining category\n",
    "\n",
    "#### authorized_flag\n",
    "- single value 'Y' with diverse sets of state_id are mapped"
   ]
  },
  {
   "cell_type": "code",
   "execution_count": null,
   "metadata": {},
   "outputs": [],
   "source": [
    "#merch_trans_df.groupby(['category_1','state_id'], as_index=False).agg({'card_id': ['count']}, as_index=False)\n",
    "#merch_trans_df.groupby(['category_2','state_id'], as_index=False).agg({'card_id': ['count']}, as_index=False)\n",
    "#merch_trans_df.groupby(['category_3','state_id'], as_index=False).agg({'card_id': ['count']}, as_index=False)\n",
    "#merch_trans_df.groupby(['authorized_flag','state_id'], as_index=False).agg({'card_id': ['count']}, as_index=False)"
   ]
  },
  {
   "cell_type": "code",
   "execution_count": null,
   "metadata": {},
   "outputs": [],
   "source": [
    "print('First few observations of Merchants Dataset:')\n",
    "merchants_org.head()"
   ]
  },
  {
   "cell_type": "code",
   "execution_count": null,
   "metadata": {},
   "outputs": [],
   "source": [
    "merchants_org.describe()"
   ]
  },
  {
   "cell_type": "code",
   "execution_count": null,
   "metadata": {},
   "outputs": [],
   "source": [
    "null_feat_df = pd.DataFrame()\n",
    "null_feat_df['Null Count'] = merchants_org.isnull().sum().sort_values(ascending=False)\n",
    "null_feat_df['Null Pct'] = null_feat_df['Null Count'] / float(len(merchants_org))\n",
    "\n",
    "null_feat_df = null_feat_df[null_feat_df['Null Pct'] > 0]\n",
    "\n",
    "total_null_feats = null_feat_df.shape[0]\n",
    "null_feat_names = null_feat_df.index\n",
    "print('Total number of features having null values: ', total_null_feats)\n",
    "print('Name of features having null values: ', null_feat_names)\n",
    "print(null_feat_df)\n",
    "\n",
    "del null_feat_df"
   ]
  },
  {
   "cell_type": "code",
   "execution_count": null,
   "metadata": {},
   "outputs": [],
   "source": [
    "print('Merchants - Unique Values - category_1: ', merchants_org['category_1'].unique().tolist())\n",
    "print('Merchants - Unique Values - category_2: ', merchants_org['category_2'].unique().tolist())\n",
    "print('Merchants - Unique Values - category_4: ', merchants_org['category_4'].unique().tolist())\n",
    "print('Merchants - Unique Values - most_recent_sales_range: ', merchants_org['most_recent_sales_range'].unique().tolist())\n",
    "print('Merchants - Unique Values - most_recent_purchases_range: ', merchants_org['most_recent_purchases_range'].unique().tolist())"
   ]
  },
  {
   "cell_type": "code",
   "execution_count": null,
   "metadata": {},
   "outputs": [],
   "source": [
    "%%time\n",
    "merchants_df = merchants_org.copy()\n",
    "print('Merchants dataset dimension: ', merchants_df.shape)\n",
    "\n",
    "merchants_df['category_2'] = merchants_df['category_2'].fillna(99.0)\n",
    "range_map = {'A':50, 'B':40, 'C':30, 'D':20, 'E':10}\n",
    "merchants_df['most_recent_sales_range'] = merchants_df['most_recent_sales_range'].map(range_map)\n",
    "merchants_df['most_recent_purchases_range'] = merchants_df['most_recent_purchases_range'].map(range_map)\n",
    "merchants_df.dropna(inplace=True)\n",
    "print('Merchants dataset dimension after treating null values: ', merchants_df.shape)\n",
    "\n",
    "merchants_df_dup = merchants_df[merchants_df['merchant_id'].duplicated(keep='first')]\n",
    "print('Merchants dataset duplicates: ', merchants_df_dup.shape)\n",
    "\n",
    "#merchants_df.drop_duplicates(subset='merchant_id', keep='first', inplace=True) \n",
    "#print('Merchants dataset dimension after treating null values: ', merchants_df.shape)\n",
    "\n",
    "del merchants_df_dup"
   ]
  },
  {
   "cell_type": "code",
   "execution_count": null,
   "metadata": {},
   "outputs": [],
   "source": [
    "#merchants_df.describe()"
   ]
  },
  {
   "cell_type": "markdown",
   "metadata": {},
   "source": [
    "### Merchants\n",
    "#### category_1\n",
    "- when category_1 = 'N' then multiple state_id including -1\n",
    "- when category_1 = 'Y' then state_id = -1 which might be no states\n",
    "\n",
    "#### category_2\n",
    "- when category_2 = 1.0 then state_id  = 9, 12, 15, 16\n",
    "- when category_2 = 2.0 then state_id  = 6, 10, 18, 23, 24\n",
    "- when category_2 = 3.0 then state_id  = 1, 2, 3, 7, 8, 11, 17, 19\n",
    "- when category_2 = 4.0 then state_id  = 4, 13, 14, 22\n",
    "- when category_2 = 5.0 then state_id  = 5, 20, 21\n",
    "- when category_2 = 99.0 which was actually null then state_id  = -1 which might be no states\n",
    "\n",
    "#### category_4\n",
    "- looks like authorized_flag of historical transactions\n",
    "- for both values 'Y' & 'N', diverse sets of state_id are mapped\n",
    "\n",
    "#### most_recent_sales_range & most_recent_purchases_range\n",
    "- for all values 'A', 'B', 'C', 'D' & 'E', diverse sets of state_id are mapped"
   ]
  },
  {
   "cell_type": "code",
   "execution_count": null,
   "metadata": {},
   "outputs": [],
   "source": [
    "#merchants_df.groupby(['category_1','state_id'], as_index=False).agg({'merchant_id': ['count']}, as_index=False)\n",
    "#merchants_df.groupby(['category_2','state_id'], as_index=False).agg({'merchant_id': ['count']}, as_index=False)\n",
    "#merchants_df.groupby(['category_4','state_id'], as_index=False).agg({'merchant_id': ['count']}, as_index=False)\n",
    "#merchants_df.groupby(['most_recent_sales_range','state_id'], as_index=False).agg({'merchant_id': ['count']}, as_index=False)\n",
    "#merchants_df.groupby(['most_recent_purchases_range','state_id'], as_index=False).agg({'merchant_id': ['count']}, as_index=False)"
   ]
  },
  {
   "cell_type": "code",
   "execution_count": null,
   "metadata": {},
   "outputs": [],
   "source": [
    "%%time\n",
    "\n",
    "merchants_df = merchants_df[['merchant_id', 'category_4', 'numerical_1', 'numerical_2',\n",
    "                             'avg_sales_lag3', 'avg_purchases_lag3', 'avg_sales_lag6',\n",
    "                             'avg_purchases_lag6', 'avg_sales_lag12', 'avg_purchases_lag12',\n",
    "                             'most_recent_sales_range', 'most_recent_purchases_range']]\n",
    "\n",
    "del merchants_org\n",
    "gc.collect()"
   ]
  },
  {
   "cell_type": "code",
   "execution_count": null,
   "metadata": {},
   "outputs": [],
   "source": [
    "print('Historical Transactions dataset dimension after treating null values: ', hist_trans_df.shape)\n",
    "print('New Merchant Transactions dataset dimension after treating null values: ', merch_trans_df.shape)\n",
    "\n",
    "hist_trans_comb = pd.merge(hist_trans_df, merchants_df, on='merchant_id', how='left')\n",
    "merch_trans_comb = pd.merge(merch_trans_df, merchants_df, on='merchant_id', how='left')\n",
    "\n",
    "del merch_trans_df, hist_trans_df, merchants_df\n",
    "print('Historical Transactions dataset dimension after treating null values: ', hist_trans_comb.shape)\n",
    "print('New Merchant Transactions dataset dimension after treating null values: ', merch_trans_comb.shape)\n",
    "gc.collect()"
   ]
  },
  {
   "cell_type": "code",
   "execution_count": null,
   "metadata": {},
   "outputs": [],
   "source": [
    "null_feat_df = pd.DataFrame()\n",
    "null_feat_df['Null Count'] = hist_trans_comb.isnull().sum().sort_values(ascending=False)\n",
    "null_feat_df['Null Pct'] = null_feat_df['Null Count'] / float(len(hist_trans_comb))\n",
    "\n",
    "null_feat_df = null_feat_df[null_feat_df['Null Pct'] > 0]\n",
    "\n",
    "total_null_feats = null_feat_df.shape[0]\n",
    "null_feat_names = null_feat_df.index\n",
    "print('Total number of features having null values: ', total_null_feats)\n",
    "print('Name of features having null values: ', null_feat_names)\n",
    "print(null_feat_df)\n",
    "\n",
    "del null_feat_df"
   ]
  },
  {
   "cell_type": "code",
   "execution_count": null,
   "metadata": {},
   "outputs": [],
   "source": [
    "null_feat_df = pd.DataFrame()\n",
    "null_feat_df['Null Count'] = merch_trans_comb.isnull().sum().sort_values(ascending=False)\n",
    "null_feat_df['Null Pct'] = null_feat_df['Null Count'] / float(len(merch_trans_comb))\n",
    "\n",
    "null_feat_df = null_feat_df[null_feat_df['Null Pct'] > 0]\n",
    "\n",
    "total_null_feats = null_feat_df.shape[0]\n",
    "null_feat_names = null_feat_df.index\n",
    "print('Total number of features having null values: ', total_null_feats)\n",
    "print('Name of features having null values: ', null_feat_names)\n",
    "print(null_feat_df)\n",
    "\n",
    "del null_feat_df"
   ]
  },
  {
   "cell_type": "code",
   "execution_count": null,
   "metadata": {},
   "outputs": [],
   "source": [
    "merch_trans_comb = merch_trans_comb.fillna(0)\n",
    "hist_trans_comb = hist_trans_comb.fillna(0)\n",
    "print('New Merchant Transactions dataset dimension after treating null values: ', merch_trans_comb.shape)\n",
    "print('Historical Transactions dataset dimension after treating null values: ', hist_trans_comb.shape)\n",
    "gc.collect()"
   ]
  },
  {
   "cell_type": "code",
   "execution_count": null,
   "metadata": {},
   "outputs": [],
   "source": [
    "numeric_dtypes = ['float16', 'float32', 'float64']\n",
    "\n",
    "for i in hist_trans_comb.columns:\n",
    "    if hist_trans_comb[i].dtype in numeric_dtypes: \n",
    "        hist_trans_comb[i] = hist_trans_comb[i].astype('float64')\n",
    "\n",
    "for i in merch_trans_comb.columns:\n",
    "    if merch_trans_comb[i].dtype in numeric_dtypes: \n",
    "        merch_trans_comb[i] = merch_trans_comb[i].astype('float64')\n",
    "\n",
    "gc.collect()"
   ]
  },
  {
   "cell_type": "code",
   "execution_count": null,
   "metadata": {},
   "outputs": [],
   "source": [
    "#hist_trans_comb.describe()"
   ]
  },
  {
   "cell_type": "code",
   "execution_count": null,
   "metadata": {},
   "outputs": [],
   "source": [
    "#merch_trans_comb.describe()"
   ]
  },
  {
   "cell_type": "code",
   "execution_count": null,
   "metadata": {},
   "outputs": [],
   "source": [
    "%%time\n",
    "\n",
    "for df in [hist_trans_comb, merch_trans_comb]:\n",
    "    \n",
    "    # Feature Engineering - Adding new features inspired by Chau's first kernel\n",
    "    df['purchase_date'] = pd.to_datetime(df['purchase_date'])\n",
    "    #df['purchase_year'] = df['purchase_date'].dt.year\n",
    "    #df['purchase_month'] = df['purchase_date'].dt.month\n",
    "    df['month_diff'] = ((datetime.datetime.today() - df['purchase_date']).dt.days)//30\n",
    "    df['month_diff'] += df['month_lag']\n",
    "    #df['purchase_weekofyear'] = df['purchase_date'].dt.weekofyear\n",
    "    #df['dayofweek'] = df['purchase_date'].dt.dayofweek\n",
    "    #df['weekend'] = (df['purchase_date'].dt.weekday >=5).astype(int)\n",
    "    #df['hour'] = df['purchase_date'].dt.hour \n",
    "\n",
    "    df['authorized_flag'] = df['authorized_flag'].map({'Y':1, 'N':0})\n",
    "    df['category_1'] = df['category_1'].map({'Y': 1, 'N': 0})\n",
    "    df['category_4'] = df['category_4'].map({'Y': 1, 'N': 0})\n",
    "    df['category_2'] = df['category_2'].map({1.0: 1, 2.0: 2, 3.0: 3, 4.0: 4, 5.0: 5, 99.0: 0})\n",
    "    df['category_3'] = df['category_3'].map({'A': 1, 'B': 2, 'C': 3, 'D': 0})\n",
    "\n",
    "gc.collect()"
   ]
  },
  {
   "cell_type": "code",
   "execution_count": null,
   "metadata": {},
   "outputs": [],
   "source": [
    "%%time\n",
    "\n",
    "#cat_cols = ['authorized_flag', 'category_1', 'category_2', 'category_3', 'category_4']\n",
    "#hist_trans_comb = pd.get_dummies(hist_trans_comb, columns=cat_cols)\n",
    "#merch_trans_comb = pd.get_dummies(merch_trans_comb, columns=cat_cols)\n",
    "\n",
    "print('Historical Transactions dataset dimension after encoding of categorical features: ', hist_trans_comb.shape)\n",
    "print('New Merchant Transactions dataset dimension after encoding of categorical features: ', merch_trans_comb.shape)\n",
    "\n",
    "gc.collect()"
   ]
  },
  {
   "cell_type": "code",
   "execution_count": null,
   "metadata": {},
   "outputs": [],
   "source": [
    "#print('First few observations of authorized historical transactions after calculating mean of category features:')\n",
    "#hist_trans_comb.head()"
   ]
  },
  {
   "cell_type": "code",
   "execution_count": null,
   "metadata": {},
   "outputs": [],
   "source": [
    "#print('First few observations of merchant transactions after calculating mean of category features:')\n",
    "#merch_trans_comb.head()"
   ]
  },
  {
   "cell_type": "code",
   "execution_count": null,
   "metadata": {},
   "outputs": [],
   "source": []
  },
  {
   "cell_type": "code",
   "execution_count": null,
   "metadata": {},
   "outputs": [],
   "source": [
    "def aggregate_transactions(transactions, prefix):\n",
    "    \n",
    "    transactions.loc[:, 'purchase_date'] = pd.DatetimeIndex(transactions['purchase_date']).\\\n",
    "                                           astype(np.int64) * 1e-9\n",
    "    \n",
    "    agg_func = {\n",
    "        'purchase_date' : ['max','min'],\n",
    "        'purchase_amount': ['sum', 'mean', 'max', 'min'],\n",
    "        'installments': ['mean', 'max', 'min'],\n",
    "        'most_recent_sales_range': ['mean', 'max', 'min'], 'most_recent_purchases_range': ['mean', 'max', 'min'],\n",
    "        \n",
    "        #'subsector_id': ['nunique'], 'merchant_category_id': ['nunique'], 'merchant_group_id': ['nunique'],\n",
    "        #'card_id': ['size'], 'merchant_id': ['nunique'], 'state_id': ['nunique'], 'city_id': ['nunique'],\n",
    "        \n",
    "        'month_lag': ['mean'], 'month_diff': ['mean'],\n",
    "        #'active_months_lag3': ['mean'], 'active_months_lag6': ['mean'], 'active_months_lag12': ['mean'],\n",
    "        \n",
    "        #'purchase_month': ['nunique'], 'purchase_weekofyear': ['nunique'], 'purchase_year': ['nunique'],\n",
    "        \n",
    "        'authorized_flag': ['mean'], 'category_1': ['mean'],\n",
    "        'category_2': ['mean'], 'category_3': ['mean'], 'category_4': ['mean'],\n",
    "        \n",
    "        'numerical_1': ['mean'], 'numerical_2': ['mean'],\n",
    "        'avg_sales_lag3': ['mean'], 'avg_purchases_lag3': ['mean'], 'avg_sales_lag6': ['mean'],\n",
    "        'avg_purchases_lag6': ['mean'], 'avg_sales_lag12': ['mean'], 'avg_purchases_lag12': ['mean']\n",
    "    }\n",
    "    \n",
    "    agg_trans = transactions.groupby(['card_id']).agg(agg_func)\n",
    "    agg_trans.columns = [prefix + '_'.join(col).strip() for col in agg_trans.columns.values]\n",
    "    agg_trans.reset_index(inplace=True)\n",
    "    \n",
    "    df = (transactions.groupby('card_id')\n",
    "          .size()\n",
    "          .reset_index(name='{}transactions_count'.format(prefix)))\n",
    "    \n",
    "    agg_trans = pd.merge(df, agg_trans, on='card_id', how='left')\n",
    "    \n",
    "    return agg_trans"
   ]
  },
  {
   "cell_type": "code",
   "execution_count": null,
   "metadata": {},
   "outputs": [],
   "source": [
    "def aggregate_per_month(transactions, prefix):\n",
    "    grouped = transactions.groupby(['card_id', 'month_lag'])\n",
    "\n",
    "    agg_func = {\n",
    "                'purchase_amount': ['count', 'sum', 'mean', 'min', 'max', 'std'],\n",
    "                'installments': ['count', 'sum', 'mean', 'min', 'max', 'std'],\n",
    "                }\n",
    "\n",
    "    intermediate_group = grouped.agg(agg_func)\n",
    "    intermediate_group.columns = [prefix + '_'.join(col).strip() for col in intermediate_group.columns.values]\n",
    "    intermediate_group.reset_index(inplace=True)\n",
    "\n",
    "    final_group = intermediate_group.groupby('card_id').agg(['mean', 'std'])\n",
    "    final_group.columns = [prefix + '_'.join(col).strip() for col in final_group.columns.values]\n",
    "    final_group.reset_index(inplace=True)\n",
    "    \n",
    "    return final_group"
   ]
  },
  {
   "cell_type": "code",
   "execution_count": null,
   "metadata": {},
   "outputs": [],
   "source": [
    "%%time\n",
    "hist_trans_agg = aggregate_transactions(hist_trans_comb, prefix='hist_')\n",
    "\n",
    "del hist_trans_comb\n",
    "gc.collect()"
   ]
  },
  {
   "cell_type": "code",
   "execution_count": null,
   "metadata": {},
   "outputs": [],
   "source": [
    "#%%time\n",
    "#grp_trans_agg =  aggregate_per_month(hist_trans_comb, prefix='grp_') \n",
    "\n",
    "#del hist_trans_comb\n",
    "#gc.collect()"
   ]
  },
  {
   "cell_type": "code",
   "execution_count": null,
   "metadata": {},
   "outputs": [],
   "source": [
    "%%time\n",
    "merchant_trans_agg = aggregate_transactions(merch_trans_comb, prefix='merch_')\n",
    "\n",
    "del merch_trans_comb\n",
    "gc.collect()"
   ]
  },
  {
   "cell_type": "code",
   "execution_count": null,
   "metadata": {},
   "outputs": [],
   "source": [
    "train_df_proc = pd.get_dummies(train_df_proc, columns=['feature_1', 'feature_2', 'feature_3'])\n",
    "test_df_proc = pd.get_dummies(test_df_proc, columns=['feature_1', 'feature_2', 'feature_3'])\n",
    "gc.collect()"
   ]
  },
  {
   "cell_type": "code",
   "execution_count": null,
   "metadata": {},
   "outputs": [],
   "source": [
    "numeric_dtypes = ['float16', 'float32', 'float64']\n",
    "\n",
    "for i in train_df_proc.columns:\n",
    "    if train_df_proc[i].dtype in numeric_dtypes: \n",
    "        train_df_proc[i] = train_df_proc[i].astype('float64')\n",
    "\n",
    "for i in test_df_proc.columns:\n",
    "    if test_df_proc[i].dtype in numeric_dtypes: \n",
    "        test_df_proc[i] = test_df_proc[i].astype('float64')\n",
    "\n",
    "gc.collect()"
   ]
  },
  {
   "cell_type": "code",
   "execution_count": null,
   "metadata": {},
   "outputs": [],
   "source": [
    "#train_df_proc.describe()"
   ]
  },
  {
   "cell_type": "code",
   "execution_count": null,
   "metadata": {},
   "outputs": [],
   "source": [
    "#test_df_proc.describe()"
   ]
  },
  {
   "cell_type": "code",
   "execution_count": null,
   "metadata": {},
   "outputs": [],
   "source": [
    "train_df_proc = pd.merge(train_df_proc, hist_trans_agg, on='card_id', how='left')\n",
    "print('Modified Train dataset dimension: {} rows, {} columns'.format(train_df_proc.shape[0], train_df_proc.shape[1]))\n",
    "\n",
    "test_df_proc = pd.merge(test_df_proc, hist_trans_agg, on='card_id', how='left')\n",
    "print('Modified Test dataset dimension: {} rows, {} columns'.format(test_df_proc.shape[0], test_df_proc.shape[1]))\n",
    "\n",
    "del hist_trans_agg\n",
    "gc.collect()"
   ]
  },
  {
   "cell_type": "code",
   "execution_count": null,
   "metadata": {},
   "outputs": [],
   "source": [
    "train_df_proc = pd.merge(train_df_proc, merchant_trans_agg, on='card_id', how='left')\n",
    "print('Modified Train dataset dimension: {} rows, {} columns'.format(train_df_proc.shape[0], train_df_proc.shape[1]))\n",
    "\n",
    "test_df_proc = pd.merge(test_df_proc, merchant_trans_agg, on='card_id', how='left')\n",
    "print('Modified Test dataset dimension: {} rows, {} columns'.format(test_df_proc.shape[0], test_df_proc.shape[1]))\n",
    "\n",
    "del merchant_trans_agg\n",
    "gc.collect()"
   ]
  },
  {
   "cell_type": "code",
   "execution_count": null,
   "metadata": {},
   "outputs": [],
   "source": [
    "#train_df_proc = pd.merge(train_df_proc, grp_trans_agg, on='card_id', how='left')\n",
    "#print('Modified Train dataset dimension: {} rows, {} columns'.format(train_df_proc.shape[0], train_df_proc.shape[1]))\n",
    "\n",
    "#test_df_proc = pd.merge(test_df_proc, grp_trans_agg, on='card_id', how='left')\n",
    "#print('Modified Test dataset dimension: {} rows, {} columns'.format(test_df_proc.shape[0], test_df_proc.shape[1]))\n",
    "\n",
    "#del grp_trans_agg\n",
    "#gc.collect()"
   ]
  },
  {
   "cell_type": "code",
   "execution_count": null,
   "metadata": {},
   "outputs": [],
   "source": [
    "#%%time\n",
    "\n",
    "# Feature Engineering - Adding new features inspired by Chau's first kernel\n",
    "#for df in [train_df_proc, test_df_proc]:\n",
    "#    df['merch_purchase_date_max'] = pd.to_datetime(df['merch_purchase_date_max'])\n",
    "#    df['merch_purchase_date_min'] = pd.to_datetime(df['merch_purchase_date_min'])\n",
    "#    df['merch_purchase_date_diff'] = (df['merch_purchase_date_max'] - df['merch_purchase_date_min']).dt.days\n",
    "#    df['merch_purchase_date_average'] = df['merch_purchase_date_diff']/df['merch_card_id_size']\n",
    "#    df['merch_purchase_date_uptonow'] = (datetime.datetime.today() - df['merch_purchase_date_max']).dt.days\n",
    "#    df['merch_first_buy'] = (df['merch_purchase_date_min'] - df['first_active_month']).dt.days\n",
    "    \n",
    "#    for feature in ['merch_purchase_date_max', 'merch_purchase_date_min']:\n",
    "#        df[feature] = df[feature].astype(np.int64) * 1e-9\n",
    "    \n",
    "    # Added new features - Interactive\n",
    "#    df['card_id_total'] = df['merch_card_id_size'] + df['hist_card_id_size']\n",
    "#    df['purchase_amount_total'] = df['merch_purchase_amount_sum'] + df['hist_purchase_amount_sum']\n",
    "    \n",
    "#print('Modified Train dataset dimension: {} rows, {} columns'.format(train_df_proc.shape[0], train_df_proc.shape[1]))\n",
    "#print('Modified Test dataset dimension: {} rows, {} columns'.format(test_df_proc.shape[0], test_df_proc.shape[1]))\n",
    "\n",
    "#train_df_proc.to_csv('train_df_proc.csv', index=False)\n",
    "#test_df_proc.to_csv('test_df_proc.csv', index=False)\n",
    "\n",
    "#gc.collect()"
   ]
  },
  {
   "cell_type": "code",
   "execution_count": null,
   "metadata": {},
   "outputs": [],
   "source": [
    "# Check for missing values in training set\n",
    "nulls_train = np.sum(train_df_proc.isnull())\n",
    "nullcols_train = nulls_train.loc[(nulls_train != 0)]\n",
    "dtypes = train_df_proc.dtypes\n",
    "dtypes2 = dtypes.loc[(nulls_train != 0)]\n",
    "info = pd.concat([nullcols_train, dtypes2], axis=1).sort_values(by=0, ascending=False)\n",
    "\n",
    "#print(info)\n",
    "#print(\"There are\", len(nullcols), \"columns with missing values in data set\")"
   ]
  },
  {
   "cell_type": "code",
   "execution_count": null,
   "metadata": {},
   "outputs": [],
   "source": [
    "# Check for missing values in testing set\n",
    "nulls_test = np.sum(test_df_proc.isnull())\n",
    "nullcols_test = nulls_test.loc[(nulls_test != 0)]\n",
    "dtypes = test_df_proc.dtypes\n",
    "dtypes2 = dtypes.loc[(nulls_test != 0)]\n",
    "info = pd.concat([nullcols_test, dtypes2], axis=1).sort_values(by=0, ascending=False)\n",
    "\n",
    "#print(info)\n",
    "#print(\"There are\", len(nullcols), \"columns with missing values in test set\")"
   ]
  },
  {
   "cell_type": "code",
   "execution_count": null,
   "metadata": {},
   "outputs": [],
   "source": [
    "null_col_train = nullcols_train[nullcols_train > 10].index\n",
    "null_col_test = nullcols_test[nullcols_test > 10].index\n",
    "\n",
    "null_cols= list(set(null_col_train)|set(null_col_test))\n",
    "list(null_cols)"
   ]
  },
  {
   "cell_type": "code",
   "execution_count": null,
   "metadata": {},
   "outputs": [],
   "source": [
    "# Remove the Outliers if any \n",
    "train_df_proc['outliers'] = 0\n",
    "train_df_proc.loc[train_df_proc['target'] < -30, 'outliers'] = 1\n",
    "train_df_proc['outliers'].value_counts()"
   ]
  },
  {
   "cell_type": "code",
   "execution_count": null,
   "metadata": {},
   "outputs": [],
   "source": [
    "#print('Train Dataset - Unique Values - feature_1: ', train_df_proc['feature_1'].unique().tolist())\n",
    "#print('Train Dataset - Unique Values - feature_2: ', train_df_proc['feature_2'].unique().tolist())\n",
    "#print('Train Dataset - Unique Values - feature_3: ', train_df_proc['feature_3'].unique().tolist())\n",
    "#print('\\n')\n",
    "#print('Test Dataset - Unique Values - feature_1: ', test_df_proc['feature_1'].unique().tolist())\n",
    "#print('Test Dataset - Unique Values - feature_2: ', test_df_proc['feature_2'].unique().tolist())\n",
    "#print('Test Dataset - Unique Values - feature_3: ', test_df_proc['feature_3'].unique().tolist())"
   ]
  },
  {
   "cell_type": "code",
   "execution_count": null,
   "metadata": {},
   "outputs": [],
   "source": [
    "train_df_proc.to_csv('train_df_proc_v7.csv', index=False)\n",
    "test_df_proc.to_csv('test_df_proc_v7.csv', index=False)"
   ]
  },
  {
   "cell_type": "code",
   "execution_count": null,
   "metadata": {},
   "outputs": [],
   "source": []
  },
  {
   "cell_type": "code",
   "execution_count": 1,
   "metadata": {},
   "outputs": [],
   "source": [
    "# Ignore warnings\n",
    "import warnings\n",
    "warnings.filterwarnings('ignore')\n",
    "\n",
    "#import some necessary librairies\n",
    "import numpy as np # linear algebra\n",
    "import pandas as pd # data processing, CSV file I/O (e.g. pd.read_csv)\n",
    "\n",
    "%matplotlib inline\n",
    "import matplotlib.pyplot as plt  # Matlab-style plotting\n",
    "import seaborn as sns\n",
    "\n",
    "# This module provides an interface to the optional garbage collector.\n",
    "# It provides the ability to disable the collector, tune the collection frequency, and set debugging options.\n",
    "import gc\n",
    "\n",
    "import datetime\n",
    "import time\n",
    "\n",
    "import lightgbm as lgb\n",
    "from sklearn.model_selection import StratifiedKFold\n",
    "from sklearn.metrics import mean_squared_log_error, mean_squared_error, r2_score, mean_absolute_error\n",
    "\n",
    "# Settings\n",
    "sns.set(style=\"darkgrid\")\n",
    "plt.rcParams['axes.labelsize'] = 14\n",
    "plt.rcParams['xtick.labelsize'] = 12\n",
    "plt.rcParams['ytick.labelsize'] = 12\n",
    "plt.rcParams['figure.figsize'] = (12, 4)\n",
    "pd.options.display.max_columns = 500"
   ]
  },
  {
   "cell_type": "code",
   "execution_count": 2,
   "metadata": {},
   "outputs": [],
   "source": [
    "#Reduce the memory usage - Inspired by Panchajanya Banerjee\n",
    "def reduce_mem_usage(df, verbose=True):\n",
    "    \n",
    "    numerics = ['int16', 'int32', 'int64', 'float16', 'float32', 'float64']\n",
    "    start_mem = df.memory_usage().sum() / 1024**2    \n",
    "    \n",
    "    for col in df.columns:\n",
    "        col_type = df[col].dtypes\n",
    "        if col_type in numerics:\n",
    "            c_min = df[col].min()\n",
    "            c_max = df[col].max()\n",
    "            if str(col_type)[:3] == 'int':\n",
    "                if c_min > np.iinfo(np.int8).min and c_max < np.iinfo(np.int8).max:\n",
    "                    df[col] = df[col].astype(np.int8)\n",
    "                elif c_min > np.iinfo(np.int16).min and c_max < np.iinfo(np.int16).max:\n",
    "                    df[col] = df[col].astype(np.int16)\n",
    "                elif c_min > np.iinfo(np.int32).min and c_max < np.iinfo(np.int32).max:\n",
    "                    df[col] = df[col].astype(np.int32)\n",
    "                elif c_min > np.iinfo(np.int64).min and c_max < np.iinfo(np.int64).max:\n",
    "                    df[col] = df[col].astype(np.int64)  \n",
    "            else:\n",
    "                if c_min > np.finfo(np.float16).min and c_max < np.finfo(np.float16).max:\n",
    "                    df[col] = df[col].astype(np.float16)\n",
    "                elif c_min > np.finfo(np.float32).min and c_max < np.finfo(np.float32).max:\n",
    "                    df[col] = df[col].astype(np.float32)\n",
    "                else:\n",
    "                    df[col] = df[col].astype(np.float64)    \n",
    "    end_mem = df.memory_usage().sum() / 1024**2\n",
    "    if verbose: \n",
    "        print('Mem. usage decreased to {:5.2f} Mb ({:.1f}% reduction)'.format(end_mem, 100 * (start_mem - end_mem) / start_mem))\n",
    "    \n",
    "    return df"
   ]
  },
  {
   "cell_type": "code",
   "execution_count": 3,
   "metadata": {},
   "outputs": [
    {
     "name": "stdout",
     "output_type": "stream",
     "text": [
      "Mem. usage decreased to 35.05 Mb (71.2% reduction)\n",
      "Train dataset dimension: 201917 rows, 79 columns\n",
      "Mem. usage decreased to 20.87 Mb (71.3% reduction)\n",
      "Train dataset dimension: 123623 rows, 77 columns\n"
     ]
    }
   ],
   "source": [
    "train_df_proc = reduce_mem_usage(pd.read_csv(\"train_df_proc_v7.csv\", parse_dates=[\"first_active_month\"]))\n",
    "print('Train dataset dimension: {} rows, {} columns'.format(train_df_proc.shape[0], train_df_proc.shape[1]))\n",
    "#train_df_proc.head()\n",
    "\n",
    "test_df_proc = reduce_mem_usage(pd.read_csv(\"test_df_proc_v7.csv\", parse_dates=[\"first_active_month\"]))\n",
    "print('Train dataset dimension: {} rows, {} columns'.format(test_df_proc.shape[0], test_df_proc.shape[1]))\n",
    "#test_df_proc.head()"
   ]
  },
  {
   "cell_type": "code",
   "execution_count": 4,
   "metadata": {},
   "outputs": [],
   "source": [
    "# Check for missing values in training set\n",
    "nulls_train = np.sum(train_df_proc.isnull())\n",
    "nullcols_train = nulls_train.loc[(nulls_train != 0)]\n",
    "\n",
    "# Check for missing values in testing set\n",
    "nulls_test = np.sum(test_df_proc.isnull())\n",
    "nullcols_test = nulls_test.loc[(nulls_test != 0)]\n",
    "\n",
    "null_col_train = nullcols_train[nullcols_train > 10].index\n",
    "null_col_test = nullcols_test[nullcols_test > 10].index\n",
    "\n",
    "null_cols= list(set(null_col_train)|set(null_col_test))\n",
    "del nullcols_train, nulls_train, nulls_test, nullcols_test"
   ]
  },
  {
   "cell_type": "code",
   "execution_count": 5,
   "metadata": {},
   "outputs": [
    {
     "name": "stdout",
     "output_type": "stream",
     "text": [
      "Train dataset dimension:  (201917, 79)\n",
      "Test dataset dimension:  (123623, 77)\n"
     ]
    }
   ],
   "source": [
    "for col in null_cols:\n",
    "    train_df_proc[col] = train_df_proc[col].fillna(0.0)\n",
    "    test_df_proc[col] = test_df_proc[col].fillna(0.0)\n",
    "\n",
    "train_df_proc.drop(['outliers'], axis=1, inplace=True)\n",
    "train_df_proc['outliers_ind'] = 0\n",
    "train_df_proc.loc[(train_df_proc['target']<-5) | (train_df_proc['target']>5), 'outliers_ind'] = 1\n",
    "\n",
    "print('Train dataset dimension: ',train_df_proc.shape)\n",
    "print('Test dataset dimension: ',test_df_proc.shape)"
   ]
  },
  {
   "cell_type": "code",
   "execution_count": null,
   "metadata": {},
   "outputs": [],
   "source": [
    "#train_no_outliers = train_df_proc.copy()\n",
    "#train_no_outliers[(train_no_outliers['target']>=-5) & (train_no_outliers['target']<=5)].describe()\n",
    "#train_no_outliers[(train_no_outliers['target']<-5) | (train_no_outliers['target']>5)].shape"
   ]
  },
  {
   "cell_type": "code",
   "execution_count": null,
   "metadata": {},
   "outputs": [],
   "source": [
    "train_no_outliers = train_df_proc.copy()\n",
    "train_no_outliers = train_no_outliers.drop(train_no_outliers[(train_no_outliers['outliers_ind']==1)].index)\n",
    "print('Train dataset dimension after removing outliers: ', train_no_outliers.shape)\n",
    "train_no_outliers.head()"
   ]
  },
  {
   "cell_type": "code",
   "execution_count": null,
   "metadata": {},
   "outputs": [],
   "source": [
    "# Get the X and Y\n",
    "train = train_no_outliers.copy()\n",
    "test = test_df_proc.copy()\n",
    "target = train_no_outliers['target']\n",
    "\n",
    "cols_not_to_consider = ['card_id', 'first_active_month', 'target', 'outliers_ind']\n",
    "\n",
    "model_feats = [c for c in train_no_outliers.columns if c not in cols_not_to_consider]"
   ]
  },
  {
   "cell_type": "code",
   "execution_count": null,
   "metadata": {},
   "outputs": [],
   "source": [
    "%%time\n",
    "\n",
    "param = {'num_leaves': 31, 'min_data_in_leaf': 32, 'objective':'regression', 'max_depth': -1, 'learning_rate': 0.005,\n",
    "         \"boosting\": \"gbdt\", \"feature_fraction\": 0.9, \"bagging_freq\": 1, \"bagging_fraction\": 0.9,\n",
    "         \"bagging_seed\": 11, \"metric\": 'rmse', \"lambda_l1\": 0.1, \"verbosity\": -1, \"nthread\": 4}\n",
    "\n",
    "folds = StratifiedKFold(n_splits=5, shuffle=True, random_state=101)\n",
    "oof_lgb_no_out = np.zeros(len(train))\n",
    "pred_lgb_no_out = np.zeros(len(test))\n",
    "feature_importance_df = pd.DataFrame()\n",
    "\n",
    "for fold_, (trn_idx, val_idx) in enumerate(folds.split(train, train['feature_3_0'].values)):\n",
    "    print(\"fold {}\".format(fold_))\n",
    "    trn_data = lgb.Dataset(train.iloc[trn_idx][model_feats], label=target.iloc[trn_idx])\n",
    "    val_data = lgb.Dataset(train.iloc[val_idx][model_feats], label=target.iloc[val_idx])\n",
    "\n",
    "    num_round = 10000\n",
    "    lgb_model = lgb.train(param, trn_data, num_round, valid_sets = [trn_data, val_data], verbose_eval=-1, early_stopping_rounds = 100)\n",
    "    oof_lgb_no_out[val_idx] = lgb_model.predict(train.iloc[val_idx][model_feats], num_iteration=lgb_model.best_iteration)\n",
    "    \n",
    "    fold_importance_df = pd.DataFrame()\n",
    "    fold_importance_df[\"Feature\"] = model_feats\n",
    "    fold_importance_df[\"importance\"] = lgb_model.feature_importance()\n",
    "    fold_importance_df[\"fold\"] = fold_ + 1\n",
    "    feature_importance_df = pd.concat([feature_importance_df, fold_importance_df], axis=0)\n",
    "    \n",
    "    pred_lgb_no_out += lgb_model.predict(test[model_feats], num_iteration=lgb_model.best_iteration) / folds.n_splits"
   ]
  },
  {
   "cell_type": "code",
   "execution_count": null,
   "metadata": {},
   "outputs": [],
   "source": [
    "#cols = (feature_importance_df[[\"Feature\", \"importance\"]]\n",
    "#        .groupby(\"Feature\")\n",
    "#        .mean()\n",
    "#        .sort_values(by=\"importance\", ascending=False)[:1000].index)\n",
    "\n",
    "#best_features = feature_importance_df.loc[feature_importance_df.Feature.isin(cols)]\n",
    "\n",
    "#plt.figure(figsize=(14,25))\n",
    "#sns.barplot(x=\"importance\",\n",
    "#            y=\"Feature\",\n",
    "#            data=best_features.sort_values(by=\"importance\",\n",
    "#                                           ascending=False))\n",
    "#plt.title('LightGBM Features (avg over folds)')\n",
    "#plt.tight_layout()"
   ]
  },
  {
   "cell_type": "code",
   "execution_count": null,
   "metadata": {},
   "outputs": [],
   "source": [
    "print('Training RMSE w/o Outliers: ', np.sqrt(mean_squared_error(oof_lgb_no_out, target)))\n",
    "\n",
    "sample_submission = pd.read_csv('datasets/sample_submission.csv')\n",
    "sample_submission['target_no_out'] = pred_lgb_no_out\n",
    "sample_submission.to_csv('test_lgb_v7_no_out.csv', index=False)\n",
    "\n",
    "train_pred_no_out = pd.DataFrame({\"card_id\":train_no_outliers[\"card_id\"].values})\n",
    "train_pred_no_out[\"pred_wo_out\"] = oof_lgb_no_out\n",
    "train_pred_no_out.to_csv('train_lgb_v7_no_out.csv', index=False)"
   ]
  },
  {
   "cell_type": "code",
   "execution_count": null,
   "metadata": {},
   "outputs": [],
   "source": []
  },
  {
   "cell_type": "code",
   "execution_count": null,
   "metadata": {},
   "outputs": [],
   "source": [
    "# Get the X and Y\n",
    "train = train_df_proc.copy()\n",
    "test = test_df_proc.copy()\n",
    "target = train_df_proc['target']\n",
    "\n",
    "cols_not_to_consider = ['card_id', 'first_active_month', 'target', 'outliers_ind']\n",
    "\n",
    "model_feats = [c for c in train_df_proc.columns if c not in cols_not_to_consider]\n",
    "\n",
    "#for col in null_cols:\n",
    "#    train[col] = train[col].fillna(0.0)\n",
    "#    test[col] = test[col].fillna(0.0)"
   ]
  },
  {
   "cell_type": "code",
   "execution_count": null,
   "metadata": {},
   "outputs": [],
   "source": [
    "train['outliers'].value_counts()"
   ]
  },
  {
   "cell_type": "code",
   "execution_count": null,
   "metadata": {},
   "outputs": [],
   "source": [
    "%%time\n",
    "\n",
    "param = {'num_leaves': 31, 'min_data_in_leaf': 32, 'objective':'regression', 'max_depth': -1, 'learning_rate': 0.005,\n",
    "         \"boosting\": \"gbdt\", \"feature_fraction\": 0.9, \"bagging_freq\": 1, \"bagging_fraction\": 0.9,\n",
    "         \"bagging_seed\": 11, \"metric\": 'rmse', \"lambda_l1\": 0.1, \"verbosity\": -1, \"nthread\": 4}\n",
    "\n",
    "folds = StratifiedKFold(n_splits=5, shuffle=True, random_state=201)\n",
    "oof_lgb_out = np.zeros(len(train))\n",
    "pred_lgb_out = np.zeros(len(test))\n",
    "feature_importance_df = pd.DataFrame()\n",
    "\n",
    "for fold_, (trn_idx, val_idx) in enumerate(folds.split(train, train['outliers_ind'].values)):\n",
    "    print(\"fold {}\".format(fold_))\n",
    "    trn_data = lgb.Dataset(train.iloc[trn_idx][model_feats], label=target.iloc[trn_idx])\n",
    "    val_data = lgb.Dataset(train.iloc[val_idx][model_feats], label=target.iloc[val_idx])\n",
    "\n",
    "    num_round = 10000\n",
    "    lgb_model = lgb.train(param, trn_data, num_round, valid_sets = [trn_data, val_data], verbose_eval=-1, early_stopping_rounds = 100)\n",
    "    oof_lgb_out[val_idx] = lgb_model.predict(train.iloc[val_idx][model_feats], num_iteration=lgb_model.best_iteration)\n",
    "    \n",
    "    fold_importance_df = pd.DataFrame()\n",
    "    fold_importance_df[\"Feature\"] = model_feats\n",
    "    fold_importance_df[\"importance\"] = lgb_model.feature_importance()\n",
    "    fold_importance_df[\"fold\"] = fold_ + 1\n",
    "    feature_importance_df = pd.concat([feature_importance_df, fold_importance_df], axis=0)\n",
    "    \n",
    "    pred_lgb_out += lgb_model.predict(test[model_feats], num_iteration=lgb_model.best_iteration) / folds.n_splits"
   ]
  },
  {
   "cell_type": "code",
   "execution_count": null,
   "metadata": {},
   "outputs": [],
   "source": [
    "print('Training RMSE with Outliers: ', np.sqrt(mean_squared_error(oof_lgb_out, target)))\n",
    "\n",
    "sample_submission = pd.read_csv('datasets/sample_submission.csv')\n",
    "sample_submission['target'] = pred_lgb_out\n",
    "sample_submission.to_csv('test_lgb_v7_out.csv', index=False)\n",
    "\n",
    "train_pred_out = pd.DataFrame({\"card_id\":train[\"card_id\"].values, \n",
    "                               \"outliers\":train[\"outliers_ind\"].values})\n",
    "train_pred_out[\"pred_out\"] = oof_lgb_out\n",
    "train_pred_out.to_csv('train_lgb_v7_out.csv', index=False)"
   ]
  },
  {
   "cell_type": "markdown",
   "metadata": {},
   "source": [
    "### Outliers Classification"
   ]
  },
  {
   "cell_type": "code",
   "execution_count": 6,
   "metadata": {},
   "outputs": [
    {
     "name": "stdout",
     "output_type": "stream",
     "text": [
      "Train dataset dimension after removing outliers:  (201917, 79)\n"
     ]
    },
    {
     "data": {
      "text/plain": [
       "0    183121\n",
       "1     18796\n",
       "Name: outliers_ind, dtype: int64"
      ]
     },
     "execution_count": 6,
     "metadata": {},
     "output_type": "execute_result"
    }
   ],
   "source": [
    "# Get the X and Y\n",
    "train_df_proc['outliers_ind'] = 0\n",
    "train_df_proc.loc[(train_df_proc['target']<-3) | (train_df_proc['target']>3), 'outliers_ind'] = 1\n",
    "\n",
    "train = train_df_proc.copy()\n",
    "#train = train.drop(train[(train['outliers_ind']==1)].index)\n",
    "print('Train dataset dimension after removing outliers: ', train.shape)\n",
    "\n",
    "test = test_df_proc.copy()\n",
    "target = train['outliers_ind']\n",
    "\n",
    "cols_not_to_consider = ['card_id', 'first_active_month', 'target', 'outliers_ind']\n",
    "\n",
    "model_feats = [c for c in train_df_proc.columns if c not in cols_not_to_consider]\n",
    "\n",
    "train['outliers_ind'].value_counts()"
   ]
  },
  {
   "cell_type": "code",
   "execution_count": 7,
   "metadata": {},
   "outputs": [
    {
     "name": "stderr",
     "output_type": "stream",
     "text": [
      "C:\\Users\\ajana\\AppData\\Local\\Continuum\\anaconda3\\lib\\site-packages\\sklearn\\ensemble\\weight_boosting.py:29: DeprecationWarning: numpy.core.umath_tests is an internal NumPy module and should not be imported. It will be removed in a future NumPy release.\n",
      "  from numpy.core.umath_tests import inner1d\n"
     ]
    },
    {
     "data": {
      "image/png": "[encoded data removed]",
      "text/plain": [
       "<Figure size 432x288 with 1 Axes>"
      ]
     },
     "metadata": {
      "needs_background": "light"
     },
     "output_type": "display_data"
    }
   ],
   "source": [
    "from sklearn.ensemble import RandomForestClassifier\n",
    "\n",
    "rfc_model = RandomForestClassifier();\n",
    "\n",
    "refclasscol = train[model_feats].columns\n",
    "\n",
    "# fit random forest classifier on the training set\n",
    "rfc_model.fit(train[model_feats], target);\n",
    "\n",
    "# extract important features\n",
    "score = np.round(rfc_model.feature_importances_, 3)\n",
    "importances = pd.DataFrame({'feature':refclasscol, 'importance':score})\n",
    "importances = importances.sort_values('importance', ascending=False).set_index('feature')\n",
    "\n",
    "# plot importances\n",
    "importances.plot.bar();"
   ]
  },
  {
   "cell_type": "code",
   "execution_count": 8,
   "metadata": {},
   "outputs": [
    {
     "name": "stdout",
     "output_type": "stream",
     "text": [
      "Stratified Sampling:  151437 train + 50480 validation\n"
     ]
    }
   ],
   "source": [
    "# Stratified sampling based on the service feature categorical values\n",
    "from sklearn.model_selection import StratifiedShuffleSplit\n",
    "\n",
    "split = StratifiedShuffleSplit(n_splits=1, test_size=0.25, random_state=50)\n",
    "for trn_index, val_index in split.split(train, train['outliers_ind']):\n",
    "    strat_train_set = train.loc[trn_index]\n",
    "    strat_val_set = train.loc[val_index]\n",
    "\n",
    "# Print number of instances for train and test dataset\n",
    "print(\"Stratified Sampling: \", len(strat_train_set), \"train +\", len(strat_val_set), \"validation\")\n",
    "\n",
    "trn_target_y = strat_train_set['outliers_ind']\n",
    "val_target_y = strat_val_set['outliers_ind']\n",
    "strat_train_set = strat_train_set[model_feats]\n",
    "strat_val_set = strat_val_set[model_feats]"
   ]
  },
  {
   "cell_type": "code",
   "execution_count": 9,
   "metadata": {},
   "outputs": [],
   "source": [
    "def calc_sens_spec(conf_matrix):\n",
    "    TP = conf_matrix[1][1]; TN = conf_matrix[0][0]; FP = conf_matrix[0][1]; FN = conf_matrix[1][0];\n",
    "    sensitivity = TP / float(TP + FN); specificity = TN / float(TN + FP);\n",
    "    return sensitivity, specificity"
   ]
  },
  {
   "cell_type": "code",
   "execution_count": 15,
   "metadata": {},
   "outputs": [
    {
     "name": "stdout",
     "output_type": "stream",
     "text": [
      "Thresh=0.006, n=48, Train Accuracy: 98.51%, Cross Val Mean Score=90.43%, Sensitivity=83.98%, Specifivity=100.00%\n",
      "Thresh=0.006, n=48, Val Accuracy: 90.48%, Cross Val Mean Score=90.43%, Sensitivity=2.09%, Specifivity=99.55%\n",
      "\n",
      "\n"
     ]
    }
   ],
   "source": [
    "from sklearn import metrics\n",
    "from sklearn.feature_selection import SelectFromModel\n",
    "from sklearn.model_selection import cross_val_score\n",
    "\n",
    "# selecting features using threshold\n",
    "feat_imp_threshold = importances.loc[(importances['importance'] < np.max(importances['importance'])) &\n",
    "                                     (importances['importance'] <= 0.010)]\n",
    "\n",
    "# fit model using each importance as a threshold\n",
    "thresholds = np.sort(np.unique(feat_imp_threshold.importance))\n",
    "thresholds = [0.006]\n",
    "for thresh in thresholds:\n",
    "    thresholds = np.sort(np.unique(feat_imp_threshold.importance))\n",
    "    selection = SelectFromModel(rfc_model, threshold=thresh, prefit=True)\n",
    "    select_train = selection.transform(strat_train_set)\n",
    "    \n",
    "    # training model\n",
    "    selection_model = RandomForestClassifier()\n",
    "    selection_model.fit(select_train, trn_target_y)\n",
    "    scores = cross_val_score(selection_model, select_train, trn_target_y, cv=10)\n",
    "\n",
    "    # prediction through model for training dataset\n",
    "    pred_trn_out = selection_model.predict(select_train)\n",
    "    pred_trn_out_prob = selection_model.predict_proba(select_train)[:, 1]\n",
    "    \n",
    "    # evaluating training model\n",
    "    accuracy = metrics.accuracy_score(trn_target_y, pred_trn_out)\n",
    "    confusion = metrics.confusion_matrix(trn_target_y, pred_trn_out)\n",
    "    sensitivity, specifivity = calc_sens_spec(confusion)\n",
    "\n",
    "    print(\"Thresh=%.3f, n=%d, Train Accuracy: %.2f%%, Cross Val Mean Score=%.2f%%, Sensitivity=%.2f%%, Specifivity=%.2f%%\" % \n",
    "            (thresh, select_train.shape[1], accuracy*100.0, scores.mean()*100.0, sensitivity*100.0, specifivity*100.0))\n",
    "\n",
    "    # prediction through model for training dataset\n",
    "    select_val = selection.transform(strat_val_set)\n",
    "    pred_val_out = selection_model.predict(select_val)\n",
    "    pred_val_out_prob = selection_model.predict_proba(select_val)[:, 1]\n",
    "    \n",
    "    # evaluating testing model\n",
    "    accuracy = metrics.accuracy_score(val_target_y, pred_val_out)\n",
    "    confusion = metrics.confusion_matrix(val_target_y, pred_val_out)\n",
    "    sensitivity, specifivity = calc_sens_spec(confusion)\n",
    "\n",
    "    print(\"Thresh=%.3f, n=%d, Val Accuracy: %.2f%%, Cross Val Mean Score=%.2f%%, Sensitivity=%.2f%%, Specifivity=%.2f%%\" % \n",
    "            (thresh, select_val.shape[1], accuracy*100.0, scores.mean()*100.0, sensitivity*100.0, specifivity*100.0))\n",
    "    print(\"\\n\")"
   ]
  },
  {
   "cell_type": "code",
   "execution_count": 12,
   "metadata": {},
   "outputs": [
    {
     "name": "stdout",
     "output_type": "stream",
     "text": [
      "Train Dataset - Cutoff : 0.05, Train Accuracy: 74.75%, Train Sensitivity=100.00%, Train Specificity=72.16%\n",
      "Val Dataset - Cutoff : 0.050, Val Accuracy: 49.76%, Val Sensitivity=76.48%, Val Specificity=47.02%\n",
      "\n",
      "\n",
      "Train Dataset - Cutoff : 0.06, Train Accuracy: 74.75%, Train Sensitivity=100.00%, Train Specificity=72.16%\n",
      "Val Dataset - Cutoff : 0.060, Val Accuracy: 49.76%, Val Sensitivity=76.48%, Val Specificity=47.02%\n",
      "\n",
      "\n",
      "Train Dataset - Cutoff : 0.09, Train Accuracy: 74.75%, Train Sensitivity=100.00%, Train Specificity=72.16%\n",
      "Val Dataset - Cutoff : 0.090, Val Accuracy: 49.76%, Val Sensitivity=76.48%, Val Specificity=47.02%\n",
      "\n",
      "\n",
      "Train Dataset - Cutoff : 0.10, Train Accuracy: 74.75%, Train Sensitivity=100.00%, Train Specificity=72.16%\n",
      "Val Dataset - Cutoff : 0.095, Val Accuracy: 49.76%, Val Sensitivity=76.48%, Val Specificity=47.02%\n",
      "\n",
      "\n",
      "Train Dataset - Cutoff : 0.10, Train Accuracy: 93.92%, Train Sensitivity=99.99%, Train Specificity=93.30%\n",
      "Val Dataset - Cutoff : 0.100, Val Accuracy: 71.95%, Val Sensitivity=50.10%, Val Specificity=74.19%\n",
      "\n",
      "\n",
      "Train Dataset - Cutoff : 0.15, Train Accuracy: 93.92%, Train Sensitivity=99.99%, Train Specificity=93.30%\n",
      "Val Dataset - Cutoff : 0.150, Val Accuracy: 71.95%, Val Sensitivity=50.10%, Val Specificity=74.19%\n",
      "\n",
      "\n",
      "Train Dataset - Cutoff : 0.20, Train Accuracy: 98.78%, Train Sensitivity=99.82%, Train Specificity=98.67%\n",
      "Val Dataset - Cutoff : 0.200, Val Accuracy: 82.84%, Val Sensitivity=28.13%, Val Specificity=88.45%\n",
      "\n",
      "\n",
      "Train Dataset - Cutoff : 0.30, Train Accuracy: 99.69%, Train Sensitivity=98.69%, Train Specificity=99.79%\n",
      "Val Dataset - Cutoff : 0.300, Val Accuracy: 87.80%, Val Sensitivity=13.94%, Val Specificity=95.38%\n",
      "\n",
      "\n",
      "Train Dataset - Cutoff : 0.40, Train Accuracy: 99.46%, Train Sensitivity=94.47%, Train Specificity=99.97%\n",
      "Val Dataset - Cutoff : 0.400, Val Accuracy: 89.79%, Val Sensitivity=5.79%, Val Specificity=98.41%\n",
      "\n",
      "\n",
      "Train Dataset - Cutoff : 0.50, Train Accuracy: 98.49%, Train Sensitivity=83.86%, Train Specificity=100.00%\n",
      "Val Dataset - Cutoff : 0.500, Val Accuracy: 90.47%, Val Sensitivity=2.11%, Val Specificity=99.54%\n",
      "\n",
      "\n"
     ]
    }
   ],
   "source": [
    "# Check calssification parameters performance based on cutoff values on class probabilities predicted\n",
    "cutoff_range = [0.05, 0.06, 0.09, 0.095, 0.1, 0.15, 0.2, 0.3, 0.4, 0.5]\n",
    "\n",
    "for cut_off in cutoff_range:\n",
    "    new_pred_trn_class = np.where(pred_trn_out_prob > cut_off, 1, 0)\n",
    "\n",
    "    new_confusion = metrics.confusion_matrix(trn_target_y, new_pred_trn_class)\n",
    "    new_sensitivity, new_specificity = calc_sens_spec(new_confusion)\n",
    "    new_trn_accuracy = metrics.accuracy_score(trn_target_y, new_pred_trn_class)\n",
    "\n",
    "    print(\"Train Dataset - Cutoff : %.2f, Train Accuracy: %.2f%%, Train Sensitivity=%.2f%%, Train Specificity=%.2f%%\" % \n",
    "         (cut_off, new_trn_accuracy*100.0, new_sensitivity*100.0, new_specificity*100.0))\n",
    "    \n",
    "    new_pred_val_class = np.where(pred_val_out_prob > cut_off, 1, 0)\n",
    "\n",
    "    new_confusion = metrics.confusion_matrix(val_target_y, new_pred_val_class)\n",
    "    new_sensitivity, new_specificity = calc_sens_spec(new_confusion)\n",
    "    new_val_accuracy = metrics.accuracy_score(val_target_y, new_pred_val_class)\n",
    "\n",
    "    print(\"Val Dataset - Cutoff : %.3f, Val Accuracy: %.2f%%, Val Sensitivity=%.2f%%, Val Specificity=%.2f%%\" % \n",
    "         (cut_off, new_val_accuracy*100.0, new_sensitivity*100.0, new_specificity*100.0))\n",
    "    \n",
    "    print('\\n')"
   ]
  },
  {
   "cell_type": "code",
   "execution_count": 13,
   "metadata": {},
   "outputs": [
    {
     "data": {
      "text/plain": [
       "RandomForestClassifier(bootstrap=True, class_weight=None, criterion='gini',\n",
       "            max_depth=None, max_features='auto', max_leaf_nodes=None,\n",
       "            min_impurity_decrease=0.0, min_impurity_split=None,\n",
       "            min_samples_leaf=1, min_samples_split=2,\n",
       "            min_weight_fraction_leaf=0.0, n_estimators=10, n_jobs=1,\n",
       "            oob_score=False, random_state=None, verbose=0,\n",
       "            warm_start=False)"
      ]
     },
     "execution_count": 13,
     "metadata": {},
     "output_type": "execute_result"
    }
   ],
   "source": [
    "selection_model"
   ]
  },
  {
   "cell_type": "code",
   "execution_count": null,
   "metadata": {},
   "outputs": [],
   "source": [
    "from sklearn.model_selection import GridSearchCV\n",
    "\n",
    "# Hyperparameters Tuning for Random Forest\n",
    "rf_param_grid = {\n",
    "                 'max_depth' : [4, 6, 8],\n",
    "                 'n_estimators': [100, 50, 10],\n",
    "                 'max_features': ['sqrt', 'auto', 'log2'],\n",
    "                 'min_samples_split': [2, 3, 10],\n",
    "                 'min_samples_leaf': [1, 3, 10],\n",
    "                 }\n",
    "forest = RandomForestClassifier()\n",
    "rf_cross_val = StratifiedKFold(n_splits=5)\n",
    "\n",
    "rf_grid_search = GridSearchCV(forest,\n",
    "                              scoring='accuracy',\n",
    "                              param_grid=rf_param_grid,\n",
    "                              cv=rf_cross_val,\n",
    "                              verbose=1\n",
    "                              )\n",
    "\n",
    "rf_grid_search.fit(select_train, trn_target_y)\n",
    "rf_model = rf_grid_search\n",
    "rf_parameters = rf_grid_search.best_params_\n",
    "\n",
    "rf_model = RandomForestClassifier(**rf_parameters)\n",
    "\n",
    "rf_model.fit(select_train, trn_target_y)\n",
    "scores = cross_val_score(rf_model, select_train, trn_target_y, cv=10)\n",
    "\n",
    "print('Cross-validation of : {0}'.format(rf_model.__class__))\n",
    "print('After Hyperparameters tuning CV score = {0}'.format(scores))\n",
    "print('Best score: {}'.format(rf_grid_search.best_score_))\n",
    "print('Best parameters: {}'.format(rf_grid_search.best_params_))"
   ]
  },
  {
   "cell_type": "code",
   "execution_count": null,
   "metadata": {},
   "outputs": [],
   "source": []
  },
  {
   "cell_type": "code",
   "execution_count": null,
   "metadata": {},
   "outputs": [],
   "source": []
  },
  {
   "cell_type": "code",
   "execution_count": null,
   "metadata": {},
   "outputs": [],
   "source": []
  },
  {
   "cell_type": "code",
   "execution_count": null,
   "metadata": {},
   "outputs": [],
   "source": [
    "pred_outliers = reduce_mem_usage(pd.read_csv(\"train_lgb_v5_out.csv\"))\n",
    "print('Train dataset dimension: {} rows, {} columns'.format(pred_outliers.shape[0], pred_outliers.shape[1]))\n",
    "\n",
    "pred_wo_outliers = reduce_mem_usage(pd.read_csv(\"train_lgb_v5_no_out.csv\"))\n",
    "print('Train dataset dimension: {} rows, {} columns'.format(pred_wo_outliers.shape[0], pred_wo_outliers.shape[1]))\n",
    "\n",
    "train_df_org = reduce_mem_usage(pd.read_csv(\"datasets/train.csv\", parse_dates=[\"first_active_month\"]))\n",
    "print('Train dataset dimension: {} rows, {} columns'.format(train_df_org.shape[0], train_df_org.shape[1]))\n",
    "\n",
    "test_pred_outliers = reduce_mem_usage(pd.read_csv(\"test_lgb_v5_out.csv\"))\n",
    "print('Train dataset dimension: {} rows, {} columns'.format(test_pred_outliers.shape[0], test_pred_outliers.shape[1]))\n",
    "\n",
    "test_pred_wo_outliers = reduce_mem_usage(pd.read_csv(\"test_lgb_v5_no_out.csv\"))\n",
    "print('Train dataset dimension: {} rows, {} columns'.format(test_pred_wo_outliers.shape[0], test_pred_wo_outliers.shape[1]))"
   ]
  },
  {
   "cell_type": "code",
   "execution_count": null,
   "metadata": {},
   "outputs": [],
   "source": [
    "train_predictions = pd.merge(train_df_org, pred_outliers, on='card_id', how='left')\n",
    "train_predictions = pd.merge(train_predictions, pred_wo_outliers, on='card_id', how='left')\n",
    "print('Train dataset dimension: {} rows, {} columns'.format(train_predictions.shape[0], train_predictions.shape[1]))\n",
    "train_predictions.head()"
   ]
  },
  {
   "cell_type": "code",
   "execution_count": null,
   "metadata": {},
   "outputs": [],
   "source": [
    "train_predictions.describe()"
   ]
  },
  {
   "cell_type": "code",
   "execution_count": null,
   "metadata": {},
   "outputs": [],
   "source": [
    "train_pred_out = train_predictions[train_predictions['outliers_ind'] == 1]\n",
    "train_pred_wo_out = train_predictions[train_predictions['outliers_ind'] == 0]\n",
    "\n",
    "train_pred_out.describe()"
   ]
  },
  {
   "cell_type": "code",
   "execution_count": null,
   "metadata": {},
   "outputs": [],
   "source": [
    "train_pred_wo_out.describe()"
   ]
  },
  {
   "cell_type": "code",
   "execution_count": null,
   "metadata": {},
   "outputs": [],
   "source": [
    "test_predictions = pd.merge(test_pred_outliers, test_pred_wo_outliers, on='card_id', how='left')\n",
    "test_predictions.describe()"
   ]
  },
  {
   "cell_type": "code",
   "execution_count": null,
   "metadata": {},
   "outputs": [],
   "source": [
    "train_predictions['pred_wo_out'] = train_predictions['pred_wo_out'].fillna(-33.21875)\n",
    "train_predictions['comb_pred'] = (train_predictions['pred_wo_out'] +  train_predictions['pred_out'])  / 2.0\n",
    "train_pred_out = train_predictions[train_predictions['outliers_ind'] == 1]\n",
    "train_pred_wo_out = train_predictions[train_predictions['outliers_ind'] == 0]\n",
    "\n",
    "train_predictions.describe()"
   ]
  },
  {
   "cell_type": "code",
   "execution_count": null,
   "metadata": {},
   "outputs": [],
   "source": [
    "train_pred_out.describe()"
   ]
  },
  {
   "cell_type": "code",
   "execution_count": null,
   "metadata": {},
   "outputs": [],
   "source": [
    "train_pred_wo_out.describe()"
   ]
  },
  {
   "cell_type": "code",
   "execution_count": null,
   "metadata": {},
   "outputs": [],
   "source": [
    "target = train_predictions['target']\n",
    "new_pred_target = train_predictions['comb_pred']\n",
    "print('New Training RMSE with Outliers: ', np.sqrt(mean_squared_error(new_pred_target, target)))\n",
    "\n",
    "target = train_pred_wo_out['target']\n",
    "new_pred_target = train_pred_wo_out['comb_pred']\n",
    "print('New Training RMSE w/o Outliers: ', np.sqrt(mean_squared_error(new_pred_target, target)))"
   ]
  },
  {
   "cell_type": "code",
   "execution_count": null,
   "metadata": {},
   "outputs": [],
   "source": [
    "train_predictions.head()"
   ]
  },
  {
   "cell_type": "code",
   "execution_count": null,
   "metadata": {},
   "outputs": [],
   "source": []
  },
  {
   "cell_type": "code",
   "execution_count": null,
   "metadata": {},
   "outputs": [],
   "source": [
    "# Get the X and Y\n",
    "train = train_df_proc.copy()\n",
    "test = test_df_proc.copy()\n",
    "\n",
    "train = pd.merge(train, train_predictions[['card_id', 'comb_pred']], on='card_id', how='left')\n",
    "target = train['comb_pred']\n",
    "\n",
    "cols_not_to_consider = ['card_id', 'first_active_month', 'target', 'outliers_ind', 'comb_pred']\n",
    "model_feats = [c for c in train_df_proc.columns if c not in cols_not_to_consider]\n",
    "\n",
    "train.head()"
   ]
  },
  {
   "cell_type": "code",
   "execution_count": null,
   "metadata": {},
   "outputs": [],
   "source": [
    "%%time\n",
    "\n",
    "param = {'num_leaves': 31, 'min_data_in_leaf': 32, 'objective':'regression', 'max_depth': -1, 'learning_rate': 0.005,\n",
    "         \"boosting\": \"gbdt\", \"feature_fraction\": 0.9, \"bagging_freq\": 1, \"bagging_fraction\": 0.9,\n",
    "         \"bagging_seed\": 11, \"metric\": 'rmse', \"lambda_l1\": 0.1, \"verbosity\": -1, \"nthread\": 4}\n",
    "\n",
    "folds = StratifiedKFold(n_splits=5, shuffle=True, random_state=201)\n",
    "oof_lgb_comb = np.zeros(len(train))\n",
    "pred_lgb_comb = np.zeros(len(test))\n",
    "feature_importance_df = pd.DataFrame()\n",
    "\n",
    "for fold_, (trn_idx, val_idx) in enumerate(folds.split(train, train['feature_3_0'].values)):\n",
    "    print(\"fold {}\".format(fold_))\n",
    "    trn_data = lgb.Dataset(train.iloc[trn_idx][model_feats], label=target.iloc[trn_idx])\n",
    "    val_data = lgb.Dataset(train.iloc[val_idx][model_feats], label=target.iloc[val_idx])\n",
    "\n",
    "    num_round = 10000\n",
    "    lgb_model = lgb.train(param, trn_data, num_round, valid_sets = [trn_data, val_data], verbose_eval=-1, early_stopping_rounds = 100)\n",
    "    oof_lgb_comb[val_idx] = lgb_model.predict(train.iloc[val_idx][model_feats], num_iteration=lgb_model.best_iteration)\n",
    "    \n",
    "    fold_importance_df = pd.DataFrame()\n",
    "    fold_importance_df[\"Feature\"] = model_feats\n",
    "    fold_importance_df[\"importance\"] = lgb_model.feature_importance()\n",
    "    fold_importance_df[\"fold\"] = fold_ + 1\n",
    "    feature_importance_df = pd.concat([feature_importance_df, fold_importance_df], axis=0)\n",
    "    \n",
    "    pred_lgb_comb += lgb_model.predict(test[model_feats], num_iteration=lgb_model.best_iteration) / folds.n_splits"
   ]
  },
  {
   "cell_type": "code",
   "execution_count": null,
   "metadata": {},
   "outputs": [],
   "source": [
    "print('Training RMSE with Outliers & New Predictions: ', np.sqrt(mean_squared_error(oof_lgb_comb, target)))\n",
    "\n",
    "sample_submission = pd.read_csv('datasets/sample_submission.csv')\n",
    "sample_submission['target'] = pred_lgb_comb\n",
    "sample_submission.to_csv('test_lgb_v5_comb.csv', index=False)\n",
    "\n",
    "train_pred_out = pd.DataFrame({\"card_id\":train_df_proc[\"card_id\"].values, \n",
    "                               \"target\":train_df_proc[\"target\"].values, \n",
    "                               \"outliers\":train_df_proc[\"outliers_ind\"].values})\n",
    "train_pred_out[\"pred_comb\"] = oof_lgb_comb\n",
    "train_pred_out.to_csv('train_lgb_v5_comb.csv', index=False)"
   ]
  },
  {
   "cell_type": "code",
   "execution_count": null,
   "metadata": {},
   "outputs": [],
   "source": []
  }
 ],
 "metadata": {
  "kernelspec": {
   "display_name": "Python 3",
   "language": "python",
   "name": "python3"
  },
  "language_info": {
   "codemirror_mode": {
    "name": "ipython",
    "version": 3
   },
   "file_extension": ".py",
   "mimetype": "text/x-python",
   "name": "python",
   "nbconvert_exporter": "python",
   "pygments_lexer": "ipython3",
   "version": "3.7.0"
  }
 },
 "nbformat": 4,
 "nbformat_minor": 2
}
